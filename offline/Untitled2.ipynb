{
 "cells": [
  {
   "cell_type": "code",
   "execution_count": 1,
   "metadata": {},
   "outputs": [
    {
     "name": "stdout",
     "output_type": "stream",
     "text": [
      "Fetching data from server..\n",
      "[##################################################] 100%\n",
      "3 packets (5795 bytes) received.\n"
     ]
    }
   ],
   "source": [
    "import sys\n",
    "sys.path.append('/home/xiaohl/FHNW/STIX/gsw/STIX_python/stix/ui')\n",
    "import client_packet_request as req\n",
    "packets=req.request(query_str='37:40', host='localhost',port=9096, verbose_level=1)\n",
    "#a query_string can be \n",
    "#  -  a python slice notation, for example, ':' '0:-1', 3:-1\n",
    "#  -  'len',  to get the total number of packets,\n",
    "#  -   index ,  to get a packet of the given index#set verbose_level to 0, to suppress print output  "
   ]
  },
  {
   "cell_type": "code",
   "execution_count": 11,
   "metadata": {},
   "outputs": [
    {
     "name": "stdout",
     "output_type": "stream",
     "text": [
      "{'NIX00076', 'NIXD0168', 'NIXD0068', 'NIXD0005', 'NIX00085', 'NIXD0163', 'NIXD0049', 'NIXD0083', 'NIXD0081', 'NIXD0079', 'NIXD0040', 'NIXD0027', 'NIXD0084', 'NIXD0003', 'NIXD0052', 'NIXD0032', 'NIX00166', 'NIX00161', 'NIXD0074', 'NIXD0070', 'NIXD0078', 'NIXD0090', 'NIXD0066', 'NIXD0038', 'NIXD0050', 'NIXD0036', 'NIXD0031', 'NIXD0085', 'NIX00162', 'NIXD0029', 'NIXD0035', 'NIX00020', 'NIXD0047', 'NIX00078', 'NIXD0054', 'NIXD0165', 'NIXD0039', 'NIXD0001', 'NIXD0082', 'NIXD0023', 'NIXD0075', 'NIXD0055', 'NIXD0169', 'NIX00080', 'NIXD0021', 'NIXD0044', 'NIXD0058', 'NIX00168', 'NIX00072', 'NIXD0026', 'NIXD0069', 'NIXD0057', 'NIXD0041', 'NIXD0022', 'NIXD0002', 'NIXD0024', 'NIXD0089', 'NIX00073', 'NIXD0030', 'NIXD0088', 'NIXD0025', 'NIXD0166', 'NIXD0077', 'NIX00167', 'NIXD0048', 'NIXD0004', 'NIXD0080', 'NIXD0067', 'NIXD0037', 'NIX00081', 'NIX00094', 'NIXD0164', 'NIXD0045', 'NIXD0167', 'NIXD0091', 'NIXD0092', 'NIXD0028', 'NIXD0043', 'NIX00079', 'NIXD0086', 'NIXD0046', 'NIXD0042', 'NIXD0053', 'NIXD0087', 'NIXD0056', 'NIXD0051'}\n"
     ]
    }
   ],
   "source": [
    "names=[]\n",
    "maps={}\n",
    "for packet in packets:\n",
    "    param=packet['parameters']\n",
    "    for par in param:\n",
    "        if 'NIXG' in par[0]:\n",
    "            continue\n",
    "        names.append(par[0])\n",
    "        \n",
    "print(set(names))\n",
    "#for p in set(names):\n",
    "#    print(f'<option value=\"{p}\">{p}</option>')\n"
   ]
  },
  {
   "cell_type": "code",
   "execution_count": null,
   "metadata": {},
   "outputs": [],
   "source": []
  }
 ],
 "metadata": {
  "kernelspec": {
   "display_name": "Python 3",
   "language": "python",
   "name": "python3"
  },
  "language_info": {
   "codemirror_mode": {
    "name": "ipython",
    "version": 3
   },
   "file_extension": ".py",
   "mimetype": "text/x-python",
   "name": "python",
   "nbconvert_exporter": "python",
   "pygments_lexer": "ipython3",
   "version": "3.8.5"
  }
 },
 "nbformat": 4,
 "nbformat_minor": 4
}
