{
 "cells": [
  {
   "cell_type": "code",
   "execution_count": 5,
   "id": "determined-university",
   "metadata": {},
   "outputs": [],
   "source": [
    "from stix.core import mongo_db as db\n",
    "from stix.spice import stix_datetime\n",
    "from stix.core import stix_logger\n",
    "#from stix.spice import solo\n",
    "from stix.analysis import ql_analyzer as qla\n",
    "logger = stix_logger.get_logger()\n",
    "\n",
    "from matplotlib import pyplot as plt\n",
    "mdb = db.MongoDB()"
   ]
  },
  {
   "cell_type": "code",
   "execution_count": 6,
   "id": "according-offer",
   "metadata": {},
   "outputs": [],
   "source": [
    "flares=mdb.get_collection('flares')"
   ]
  },
  {
   "cell_type": "code",
   "execution_count": 15,
   "id": "lucky-portland",
   "metadata": {},
   "outputs": [
    {
     "data": {
      "text/plain": [
       "<matplotlib.collections.PathCollection at 0x7f662a3d9490>"
      ]
     },
     "execution_count": 15,
     "metadata": {},
     "output_type": "execute_result"
    },
    {
     "data": {
      "image/png": "[encoded data removed]",
      "text/plain": [
       "<Figure size 432x288 with 1 Axes>"
      ]
     },
     "metadata": {
      "needs_background": "light"
     },
     "output_type": "display_data"
    }
   ],
   "source": [
    "x=[]\n",
    "y=[]\n",
    "for doc in flares.find({'peak_counts':{'$lt':600}}):\n",
    "    x.append(doc['total_signal_counts'])\n",
    "    y.append(doc['duration'])\n",
    "plt.scatter(x,y)\n",
    "    "
   ]
  },
  {
   "cell_type": "code",
   "execution_count": null,
   "id": "shaped-communications",
   "metadata": {},
   "outputs": [],
   "source": []
  }
 ],
 "metadata": {
  "kernelspec": {
   "display_name": "Python 3 (ipykernel)",
   "language": "python",
   "name": "python3"
  },
  "language_info": {
   "codemirror_mode": {
    "name": "ipython",
    "version": 3
   },
   "file_extension": ".py",
   "mimetype": "text/x-python",
   "name": "python",
   "nbconvert_exporter": "python",
   "pygments_lexer": "ipython3",
   "version": "3.10.4"
  }
 },
 "nbformat": 4,
 "nbformat_minor": 5
}
