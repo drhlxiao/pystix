{
 "cells": [
  {
   "cell_type": "code",
   "execution_count": 1,
   "metadata": {},
   "outputs": [
    {
     "name": "stdout",
     "output_type": "stream",
     "text": [
      "Failed to load /data/pub/data/spice/latest/kernels/mk/solo_ANC_soc-flown-mk_V107_20210630_001.tm\n",
      "Failed to load /data/pub/data/spice/latest/kernels/mk/solo_ANC_soc-flown-mk_V107_20210701_002.tm\n",
      "Failed to load /data/pub/data/spice/latest/kernels/mk/solo_ANC_soc-flown-mk_V107_20210701_001.tm\n",
      "Failed to load /data/pub/data/spice/latest/kernels/mk/solo_ANC_soc-flown-mk_V107_20210703_001.tm\n",
      "Failed to load /data/pub/data/spice/latest/kernels/mk/solo_ANC_soc-flown-mk_V107_20210703_002.tm\n",
      "Failed to load /data/pub/data/spice/latest/kernels/mk/solo_ANC_soc-flown-mk_V107_20210703_003.tm\n",
      "Failed to load /data/pub/data/spice/latest/kernels/mk/solo_ANC_soc-flown-mk_V107_20210704_001.tm\n",
      "Failed to load /data/pub/data/spice/latest/kernels/mk/solo_ANC_soc-flown-mk_V107_20210705_001.tm\n",
      "Failed to load /data/pub/data/spice/latest/kernels/mk/solo_ANC_soc-flown-mk_V107_20210705_002.tm\n",
      "Failed to load /data/pub/data/spice/latest/kernels/mk/solo_ANC_soc-flown-mk_V107_20210706_001.tm\n"
     ]
    },
    {
     "name": "stderr",
     "output_type": "stream",
     "text": [
      "Fetching data: 100%|██████████| 75.9k/75.9k [00:00<00:00, 1.87MiB/s]\n"
     ]
    },
    {
     "ename": "NameError",
     "evalue": "name 'filename' is not defined",
     "output_type": "error",
     "traceback": [
      "\u001b[0;31m---------------------------------------------------------------------------\u001b[0m",
      "\u001b[0;31mNameError\u001b[0m                                 Traceback (most recent call last)",
      "\u001b[0;32m<ipython-input-1-3846ea9567c1>\u001b[0m in \u001b[0;36m<module>\u001b[0;34m\u001b[0m\n\u001b[1;32m     30\u001b[0m     \u001b[0mstop\u001b[0m\u001b[0;34m=\u001b[0m\u001b[0msdt\u001b[0m\u001b[0;34m.\u001b[0m\u001b[0munix2utc\u001b[0m\u001b[0;34m(\u001b[0m\u001b[0msdt\u001b[0m\u001b[0;34m.\u001b[0m\u001b[0mutc2unix\u001b[0m\u001b[0;34m(\u001b[0m\u001b[0mutc\u001b[0m\u001b[0;34m)\u001b[0m\u001b[0;34m+\u001b[0m\u001b[0;36m2\u001b[0m\u001b[0;34m*\u001b[0m\u001b[0mmargin\u001b[0m\u001b[0;34m)\u001b[0m\u001b[0;34m\u001b[0m\u001b[0;34m\u001b[0m\u001b[0m\n\u001b[1;32m     31\u001b[0m     \u001b[0mapi\u001b[0m\u001b[0;34m.\u001b[0m\u001b[0mdownload\u001b[0m\u001b[0;34m(\u001b[0m\u001b[0mstart\u001b[0m\u001b[0;34m,\u001b[0m \u001b[0mstop\u001b[0m\u001b[0;34m,\u001b[0m \u001b[0mfits_type\u001b[0m\u001b[0;34m=\u001b[0m\u001b[0;34m'lc'\u001b[0m\u001b[0;34m,\u001b[0m \u001b[0mprogress_bar\u001b[0m\u001b[0;34m=\u001b[0m\u001b[0;32mTrue\u001b[0m\u001b[0;34m,\u001b[0m \u001b[0mfilename\u001b[0m\u001b[0;34m=\u001b[0m\u001b[0mfname\u001b[0m\u001b[0;34m)\u001b[0m\u001b[0;34m\u001b[0m\u001b[0;34m\u001b[0m\u001b[0m\n\u001b[0;32m---> 32\u001b[0;31m     \u001b[0mprint\u001b[0m\u001b[0;34m(\u001b[0m\u001b[0mfilename\u001b[0m\u001b[0;34m)\u001b[0m\u001b[0;34m\u001b[0m\u001b[0;34m\u001b[0m\u001b[0m\n\u001b[0m",
      "\u001b[0;31mNameError\u001b[0m: name 'filename' is not defined"
     ]
    }
   ],
   "source": [
    "import sys\n",
    "\n",
    "\n",
    "sys.path.append('/home/xiaohl/FHNW/STIX/gsw/STIX_python')\n",
    "\n",
    "from stix.net import datacenter as api\n",
    "import numpy as np\n",
    "import pandas as pd\n",
    "import requests\n",
    "import scipy \n",
    "from datetime import datetime\n",
    "from matplotlib import pyplot as plt\n",
    "%matplotlib notebook\n",
    "\n",
    "\n",
    "from stix.spice import stix_datetime as sdt\n",
    "\n",
    "grb_data=[['2021-07-07T00:33:31',\t293.743,\t21.896],\n",
    "['2021-05-20T19:07:03.550',\t123,\t-69.4],\n",
    "['2021-02-07T21:52:14.050',\t270.63474,\t53.6821],\n",
    "['2021-06-22T01:32:35.9',\t233.117\t,-26.213],\n",
    "['2021-04-10T00:53:16.52',\t269.75417,\t45.36339],\n",
    "['2021-01-21T18:41:48.800',16.981,-46.401]]\n",
    "margin=900\n",
    "\n",
    "for grb in grb_data:\n",
    "    utc=grb[0]\n",
    "    fname=f'/home/xiaohl/Desktop/stix_lc_{grb[0]}.fits'\n",
    "    start=sdt.unix2utc(sdt.utc2unix(utc)-margin)\n",
    "    stop=sdt.unix2utc(sdt.utc2unix(utc)+2*margin)\n",
    "    api.download(start, stop, fits_type='lc', progress_bar=True, filename=fname)\n",
    "    print(filename)"
   ]
  },
  {
   "cell_type": "code",
   "execution_count": null,
   "metadata": {},
   "outputs": [],
   "source": []
  }
 ],
 "metadata": {
  "kernelspec": {
   "display_name": "Python 3",
   "language": "python",
   "name": "python3"
  },
  "language_info": {
   "codemirror_mode": {
    "name": "ipython",
    "version": 3
   },
   "file_extension": ".py",
   "mimetype": "text/x-python",
   "name": "python",
   "nbconvert_exporter": "python",
   "pygments_lexer": "ipython3",
   "version": "3.8.10"
  }
 },
 "nbformat": 4,
 "nbformat_minor": 4
}
