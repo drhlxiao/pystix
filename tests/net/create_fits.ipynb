{
 "cells": [
  {
   "cell_type": "code",
   "execution_count": 2,
   "metadata": {},
   "outputs": [
    {
     "name": "stderr",
     "output_type": "stream",
     "text": [
      "Fetching data: 100%|██████████| 75.9k/75.9k [00:00<00:00, 1.11MiB/s]\n"
     ]
    },
    {
     "name": "stdout",
     "output_type": "stream",
     "text": [
      "/home/xiaohl/Desktop/stix_lc_2021-07-07T00:33:31.fits\n"
     ]
    },
    {
     "name": "stderr",
     "output_type": "stream",
     "text": [
      "Fetching data: 100%|██████████| 75.9k/75.9k [00:00<00:00, 1.17MiB/s]\n"
     ]
    },
    {
     "name": "stdout",
     "output_type": "stream",
     "text": [
      "/home/xiaohl/Desktop/stix_lc_2021-05-20T19:07:03.550.fits\n"
     ]
    },
    {
     "name": "stderr",
     "output_type": "stream",
     "text": [
      "Fetching data: 100%|██████████| 75.9k/75.9k [00:00<00:00, 1.24MiB/s]\n"
     ]
    },
    {
     "name": "stdout",
     "output_type": "stream",
     "text": [
      "/home/xiaohl/Desktop/stix_lc_2021-02-07T21:52:14.050.fits\n"
     ]
    },
    {
     "name": "stderr",
     "output_type": "stream",
     "text": [
      "Fetching data: 100%|██████████| 75.9k/75.9k [00:00<00:00, 1.39MiB/s]\n"
     ]
    },
    {
     "name": "stdout",
     "output_type": "stream",
     "text": [
      "/home/xiaohl/Desktop/stix_lc_2021-06-22T01:32:35.9.fits\n"
     ]
    },
    {
     "name": "stderr",
     "output_type": "stream",
     "text": [
      "Fetching data: 100%|██████████| 75.9k/75.9k [00:00<00:00, 1.28MiB/s]\n",
      "Fetching data: 28.0iB [00:00, 20.6kiB/s]"
     ]
    },
    {
     "name": "stdout",
     "output_type": "stream",
     "text": [
      "/home/xiaohl/Desktop/stix_lc_2021-04-10T00:53:16.52.fits\n",
      "/home/xiaohl/Desktop/stix_lc_2021-01-21T18:41:48.800.fits\n"
     ]
    },
    {
     "name": "stderr",
     "output_type": "stream",
     "text": [
      "\n"
     ]
    }
   ],
   "source": [
    "import sys\n",
    "\n",
    "\n",
    "sys.path.append('/home/xiaohl/FHNW/STIX/gsw/STIX_python')\n",
    "\n",
    "from stix.net import datacenter as api\n",
    "import numpy as np\n",
    "import pandas as pd\n",
    "import requests\n",
    "import scipy \n",
    "from datetime import datetime\n",
    "from matplotlib import pyplot as plt\n",
    "%matplotlib notebook\n",
    "\n",
    "\n",
    "from stix.spice import stix_datetime as sdt\n",
    "\n",
    "grb_data=[['2021-07-07T00:33:31',\t293.743,\t21.896],\n",
    "['2021-05-20T19:07:03.550',\t123,\t-69.4],\n",
    "['2021-02-07T21:52:14.050',\t270.63474,\t53.6821],\n",
    "['2021-06-22T01:32:35.9',\t233.117\t,-26.213],\n",
    "['2021-04-10T00:53:16.52',\t269.75417,\t45.36339],\n",
    "['2021-01-21T18:41:48.800',16.981,-46.401]]\n",
    "margin=900\n",
    "\n",
    "for grb in grb_data:\n",
    "    utc=grb[0]\n",
    "    fname=f'/home/xiaohl/Desktop/stix_lc_{grb[0]}.fits'\n",
    "    start=sdt.unix2utc(sdt.utc2unix(utc)-margin)\n",
    "    stop=sdt.unix2utc(sdt.utc2unix(utc)+2*margin)\n",
    "    api.download(start, stop, fits_type='lc', progress_bar=True, filename=fname)\n",
    "    print(fname)"
   ]
  },
  {
   "cell_type": "code",
   "execution_count": null,
   "metadata": {},
   "outputs": [],
   "source": []
  }
 ],
 "metadata": {
  "kernelspec": {
   "display_name": "Python 3",
   "language": "python",
   "name": "python3"
  },
  "language_info": {
   "codemirror_mode": {
    "name": "ipython",
    "version": 3
   },
   "file_extension": ".py",
   "mimetype": "text/x-python",
   "name": "python",
   "nbconvert_exporter": "python",
   "pygments_lexer": "ipython3",
   "version": "3.8.10"
  }
 },
 "nbformat": 4,
 "nbformat_minor": 4
}
