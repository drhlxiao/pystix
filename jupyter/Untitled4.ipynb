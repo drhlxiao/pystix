{
 "cells": [
  {
   "cell_type": "code",
   "execution_count": 1,
   "metadata": {},
   "outputs": [
    {
     "data": {
      "text/plain": [
       "32"
      ]
     },
     "execution_count": 1,
     "metadata": {},
     "output_type": "execute_result"
    }
   ],
   "source": [
    "def config(key, parser_config):\n",
    "    # get configuration value\n",
    "    # For example:  pipeline.daemon.fits_path\n",
    "    if '.' in key:\n",
    "        result=parser_config\n",
    "        for  item in key.split('.'):\n",
    "            result=result[item]\n",
    "        return result\n",
    "\n",
    "conf={\n",
    "    'a':{'b':\n",
    "         {'d':32}\n",
    "         , 'c':32}\n",
    "}\n",
    "config('a.b.d', conf)"
   ]
  },
  {
   "cell_type": "code",
   "execution_count": null,
   "metadata": {},
   "outputs": [],
   "source": []
  }
 ],
 "metadata": {
  "kernelspec": {
   "display_name": "Python 3",
   "language": "python",
   "name": "python3"
  },
  "language_info": {
   "codemirror_mode": {
    "name": "ipython",
    "version": 3
   },
   "file_extension": ".py",
   "mimetype": "text/x-python",
   "name": "python",
   "nbconvert_exporter": "python",
   "pygments_lexer": "ipython3",
   "version": "3.8.5"
  }
 },
 "nbformat": 4,
 "nbformat_minor": 4
}
