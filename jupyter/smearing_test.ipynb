{
 "cells": [
  {
   "cell_type": "code",
   "execution_count": 13,
   "metadata": {},
   "outputs": [
    {
     "name": "stdout",
     "output_type": "stream",
     "text": [
      "[-0.39260779]\n"
     ]
    },
    {
     "data": {
      "image/png": "[encoded data removed]",
      "text/plain": [
       "<Figure size 432x288 with 1 Axes>"
      ]
     },
     "metadata": {
      "needs_background": "light"
     },
     "output_type": "display_data"
    }
   ],
   "source": [
    "from matplotlib import pyplot as plt\n",
    "import ROOT\n",
    "import numpy as np\n",
    "from array import array\n",
    "\n",
    "#ba133=#[41,46,68,74,78,79,74,67,81,83,68,78,72,55,59,62,47,44,63,58,53,59,49,49,53,50,52,53,50,50,47,41,45,45,50,46,40,42,41,33,36,45,34,27,35,36,40,30,35,27,27,50,53,48,43,61,84,251,2399,114172,78265,38,31,29,32,42,97,33987,157,6764,39,27,28,29,33,20,27,36,21,33,25,23,33,34,45,34,30,41,34,37,24,26,34,40,27,40,59,68,73,98,175,343,1106,2410,33,25,27,23,23,30,21,16,19,19,23,24,19,27,65,835,25,27,33,16,24,28,39,628,82,113,25,20,19,23,20,45,32,65,73,71,491,732,731,815,910,941,1041,1211,1361,1569,1761,2067,2625,3328,5113,5027,9227,17082,25,35,27,30,55,54,23,20,14,24,19,19,29,22,17,18,21,15,25,20,19,19,18,23,17,26,14,14,11,20,12,22,18,18,16,17,11,18,14,22,21,21]\n",
    "f=ROOT.TFile('expspec.root')\n",
    "h=f.Get(\"hexp\")\n",
    "ba133=[]\n",
    "for i in range(0,h.GetNbinsX()):\n",
    "    ba133.append(h.GetBinContent(i+1))\n",
    "s=np.random.normal(0, 1, 1)\n",
    "print(s)\n",
    "\n",
    "def sub_bkg(spec):\n",
    "    bkg=array('d',spec)\n",
    "    s=ROOT.TSpectrum()\n",
    "    nbins=len(spec)\n",
    "    back_decreasing_window=1\n",
    "    back_order_2=0\n",
    "    back_smoothing=3\n",
    "    num_interations=6\n",
    "    s.Background(bkg, nbins, num_interations, back_decreasing_window, \n",
    "            back_order_2, False, back_smoothing, False)\n",
    "    bkgsub=np.array(spec)-np.array(bkg)\n",
    "    return bkg,  bkgsub.tolist()\n",
    "\n",
    "b,spc,  s=sub_bkg(ba133)\n",
    "plt.plot(spc)\n",
    "plt.plot(s)\n",
    "plt.plot(b)\n",
    "plt.show()\n"
   ]
  },
  {
   "cell_type": "code",
   "execution_count": 11,
   "metadata": {},
   "outputs": [],
   "source": [
    "sub_bkg\n",
    "\n",
    "\n",
    "\n",
    "#x_full=[start+i*num_summed+0.5*num_summed for i in range(0,len(spec))]\n",
    "#    nbins=len(subspec)\n",
    "from array import array\n",
    "from matplotlib import pyplot as plt\n",
    "import ROOT\n",
    "import numpy as np\n",
    "\n",
    "#num_found=s."
   ]
  },
  {
   "cell_type": "code",
   "execution_count": 14,
   "metadata": {},
   "outputs": [
    {
     "name": "stdout",
     "output_type": "stream",
     "text": [
      "4\n",
      "387.99999875609353\n",
      "334.01661073467255\n",
      "504.20741960391985\n",
      "398.0000120920222\n"
     ]
    },
    {
     "data": {
      "text/plain": [
       "<matplotlib.collections.LineCollection at 0x7fb84990ad60>"
      ]
     },
     "execution_count": 14,
     "metadata": {},
     "output_type": "execute_result"
    },
    {
     "data": {
      "image/png": "[encoded data removed]",
      "text/plain": [
       "<Figure size 432x288 with 1 Axes>"
      ]
     },
     "metadata": {
      "needs_background": "light"
     },
     "output_type": "display_data"
    }
   ],
   "source": [
    "\n",
    "#ba133=[41,46,68,74,78,79,74,67,81,83,68,78,72,55,59,62,47,44,63,58,53,59,49,49,53,50,52,53,50,50,47,41,45,45,50,46,40,42,41,33,36,45,34,27,35,36,40,30,35,27,27,50,53,48,43,61,84,251,2399,114172,78265,38,31,29,32,42,97,33987,157,6764,39,27,28,29,33,20,27,36,21,33,25,23,33,34,45,34,30,41,34,37,24,26,34,40,27,40,59,68,73,98,175,343,1106,2410,33,25,27,23,23,30,21,16,19,19,23,24,19,27,65,835,25,27,33,16,24,28,39,628,82,113,25,20,19,23,20,45,32,65,73,71,491,732,731,815,910,941,1041,1211,1361,1569,1761,2067,2625,3328,5113,5027,9227,17082,25,35,27,30,55,54,23,20,14,24,19,19,29,22,17,18,21,15,25,20,19,19,18,23,17,26,14,14,11,20,12,22,18,18,16,17,11,18,14,22,21,21]\n",
    "\n",
    "f=ROOT.TFile('expspec.root')\n",
    "h=f.Get(\"hexp\")\n",
    "ba133=[]\n",
    "for i in range(0,h.GetNbinsX()):\n",
    "    ba133.append(h.GetBinContent(i+1))\n",
    "sigma=2\n",
    "nbins=len(ba133)\n",
    "threshold=sum(ba133)/nbins*0.05\n",
    "#print(threshold)\n",
    "\n",
    "y=array('d',ba133)\n",
    "des=array('d',[0]*nbins)\n",
    "s=ROOT.TSpectrum()\n",
    "num_found=s.SearchHighRes(y, des,nbins,2, 10,1, 1000,1,3)\n",
    "xpeaks=s.GetPositionX()\n",
    "xp=[]\n",
    "print(num_found)\n",
    "for i in range(0,num_found):\n",
    "    print(xpeaks[i])\n",
    "    xp.append(xpeaks[i])\n",
    "plt.plot(ba133)\n",
    "plt.vlines(xp,0, 550)\n",
    "\n",
    " \n",
    "    \n",
    "    "
   ]
  },
  {
   "cell_type": "code",
   "execution_count": null,
   "metadata": {},
   "outputs": [],
   "source": []
  },
  {
   "cell_type": "code",
   "execution_count": null,
   "metadata": {},
   "outputs": [],
   "source": []
  }
 ],
 "metadata": {
  "kernelspec": {
   "display_name": "Python 3",
   "language": "python",
   "name": "python3"
  },
  "language_info": {
   "codemirror_mode": {
    "name": "ipython",
    "version": 3
   },
   "file_extension": ".py",
   "mimetype": "text/x-python",
   "name": "python",
   "nbconvert_exporter": "python",
   "pygments_lexer": "ipython3",
   "version": "3.8.2"
  }
 },
 "nbformat": 4,
 "nbformat_minor": 4
}
